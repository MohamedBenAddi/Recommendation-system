{
 "cells": [
  {
   "cell_type": "markdown",
   "id": "a9113a11",
   "metadata": {},
   "source": [
    "# Book Recommender (Collaborative based) using clustering"
   ]
  },
  {
   "cell_type": "code",
   "execution_count": 1,
   "id": "d10978e3",
   "metadata": {},
   "outputs": [],
   "source": [
    "import pandas as pd\n",
    "import numpy as np"
   ]
  },
  {
   "cell_type": "code",
   "execution_count": 2,
   "id": "a0082e6b",
   "metadata": {},
   "outputs": [
    {
     "name": "stderr",
     "output_type": "stream",
     "text": [
      "b'Skipping line 6452: expected 8 fields, saw 9\\nSkipping line 43667: expected 8 fields, saw 10\\nSkipping line 51751: expected 8 fields, saw 9\\n'\n",
      "b'Skipping line 92038: expected 8 fields, saw 9\\nSkipping line 104319: expected 8 fields, saw 9\\nSkipping line 121768: expected 8 fields, saw 9\\n'\n",
      "b'Skipping line 144058: expected 8 fields, saw 9\\nSkipping line 150789: expected 8 fields, saw 9\\nSkipping line 157128: expected 8 fields, saw 9\\nSkipping line 180189: expected 8 fields, saw 9\\nSkipping line 185738: expected 8 fields, saw 9\\n'\n",
      "b'Skipping line 209388: expected 8 fields, saw 9\\nSkipping line 220626: expected 8 fields, saw 9\\nSkipping line 227933: expected 8 fields, saw 11\\nSkipping line 228957: expected 8 fields, saw 10\\nSkipping line 245933: expected 8 fields, saw 9\\nSkipping line 251296: expected 8 fields, saw 9\\nSkipping line 259941: expected 8 fields, saw 9\\nSkipping line 261529: expected 8 fields, saw 9\\n'\n",
      "c:\\users\\hizzi\\appdata\\local\\programs\\python\\python37\\lib\\site-packages\\IPython\\core\\interactiveshell.py:3258: DtypeWarning: Columns (3) have mixed types.Specify dtype option on import or set low_memory=False.\n",
      "  interactivity=interactivity, compiler=compiler, result=result)\n"
     ]
    }
   ],
   "source": [
    "books = pd.read_csv('data/BX-Books.csv', sep=';', error_bad_lines=False, encoding='latin-1')"
   ]
  },
  {
   "cell_type": "code",
   "execution_count": 3,
   "id": "635c8ad0",
   "metadata": {},
   "outputs": [
    {
     "data": {
      "text/html": [
       "<div>\n",
       "<style scoped>\n",
       "    .dataframe tbody tr th:only-of-type {\n",
       "        vertical-align: middle;\n",
       "    }\n",
       "\n",
       "    .dataframe tbody tr th {\n",
       "        vertical-align: top;\n",
       "    }\n",
       "\n",
       "    .dataframe thead th {\n",
       "        text-align: right;\n",
       "    }\n",
       "</style>\n",
       "<table border=\"1\" class=\"dataframe\">\n",
       "  <thead>\n",
       "    <tr style=\"text-align: right;\">\n",
       "      <th></th>\n",
       "      <th>ISBN</th>\n",
       "      <th>Book-Title</th>\n",
       "      <th>Book-Author</th>\n",
       "      <th>Year-Of-Publication</th>\n",
       "      <th>Publisher</th>\n",
       "      <th>Image-URL-S</th>\n",
       "      <th>Image-URL-M</th>\n",
       "      <th>Image-URL-L</th>\n",
       "    </tr>\n",
       "  </thead>\n",
       "  <tbody>\n",
       "    <tr>\n",
       "      <th>0</th>\n",
       "      <td>0195153448</td>\n",
       "      <td>Classical Mythology</td>\n",
       "      <td>Mark P. O. Morford</td>\n",
       "      <td>2002</td>\n",
       "      <td>Oxford University Press</td>\n",
       "      <td>http://images.amazon.com/images/P/0195153448.0...</td>\n",
       "      <td>http://images.amazon.com/images/P/0195153448.0...</td>\n",
       "      <td>http://images.amazon.com/images/P/0195153448.0...</td>\n",
       "    </tr>\n",
       "    <tr>\n",
       "      <th>1</th>\n",
       "      <td>0002005018</td>\n",
       "      <td>Clara Callan</td>\n",
       "      <td>Richard Bruce Wright</td>\n",
       "      <td>2001</td>\n",
       "      <td>HarperFlamingo Canada</td>\n",
       "      <td>http://images.amazon.com/images/P/0002005018.0...</td>\n",
       "      <td>http://images.amazon.com/images/P/0002005018.0...</td>\n",
       "      <td>http://images.amazon.com/images/P/0002005018.0...</td>\n",
       "    </tr>\n",
       "  </tbody>\n",
       "</table>\n",
       "</div>"
      ],
      "text/plain": [
       "         ISBN           Book-Title           Book-Author Year-Of-Publication  \\\n",
       "0  0195153448  Classical Mythology    Mark P. O. Morford                2002   \n",
       "1  0002005018         Clara Callan  Richard Bruce Wright                2001   \n",
       "\n",
       "                 Publisher                                        Image-URL-S  \\\n",
       "0  Oxford University Press  http://images.amazon.com/images/P/0195153448.0...   \n",
       "1    HarperFlamingo Canada  http://images.amazon.com/images/P/0002005018.0...   \n",
       "\n",
       "                                         Image-URL-M  \\\n",
       "0  http://images.amazon.com/images/P/0195153448.0...   \n",
       "1  http://images.amazon.com/images/P/0002005018.0...   \n",
       "\n",
       "                                         Image-URL-L  \n",
       "0  http://images.amazon.com/images/P/0195153448.0...  \n",
       "1  http://images.amazon.com/images/P/0002005018.0...  "
      ]
     },
     "execution_count": 3,
     "metadata": {},
     "output_type": "execute_result"
    }
   ],
   "source": [
    "books.head(2)"
   ]
  },
  {
   "cell_type": "code",
   "execution_count": 4,
   "id": "bba20a8e",
   "metadata": {},
   "outputs": [
    {
     "data": {
      "text/plain": [
       "(271360, 8)"
      ]
     },
     "execution_count": 4,
     "metadata": {},
     "output_type": "execute_result"
    }
   ],
   "source": [
    "books.shape"
   ]
  },
  {
   "cell_type": "code",
   "execution_count": 5,
   "id": "c1cf02fa",
   "metadata": {},
   "outputs": [
    {
     "data": {
      "text/plain": [
       "Index(['ISBN', 'Book-Title', 'Book-Author', 'Year-Of-Publication', 'Publisher',\n",
       "       'Image-URL-S', 'Image-URL-M', 'Image-URL-L'],\n",
       "      dtype='object')"
      ]
     },
     "execution_count": 5,
     "metadata": {},
     "output_type": "execute_result"
    }
   ],
   "source": [
    "books.columns"
   ]
  },
  {
   "cell_type": "markdown",
   "id": "612d9bc0",
   "metadata": {},
   "source": [
    "## Prétraitement des données"
   ]
  },
  {
   "cell_type": "code",
   "execution_count": 6,
   "id": "6d76b055",
   "metadata": {},
   "outputs": [],
   "source": [
    "books = books[['ISBN', 'Book-Title', 'Book-Author', 'Year-Of-Publication', 'Publisher','Image-URL-L']]"
   ]
  },
  {
   "cell_type": "code",
   "execution_count": 7,
   "id": "639227f9",
   "metadata": {},
   "outputs": [
    {
     "data": {
      "text/html": [
       "<div>\n",
       "<style scoped>\n",
       "    .dataframe tbody tr th:only-of-type {\n",
       "        vertical-align: middle;\n",
       "    }\n",
       "\n",
       "    .dataframe tbody tr th {\n",
       "        vertical-align: top;\n",
       "    }\n",
       "\n",
       "    .dataframe thead th {\n",
       "        text-align: right;\n",
       "    }\n",
       "</style>\n",
       "<table border=\"1\" class=\"dataframe\">\n",
       "  <thead>\n",
       "    <tr style=\"text-align: right;\">\n",
       "      <th></th>\n",
       "      <th>ISBN</th>\n",
       "      <th>Book-Title</th>\n",
       "      <th>Book-Author</th>\n",
       "      <th>Year-Of-Publication</th>\n",
       "      <th>Publisher</th>\n",
       "      <th>Image-URL-L</th>\n",
       "    </tr>\n",
       "  </thead>\n",
       "  <tbody>\n",
       "    <tr>\n",
       "      <th>0</th>\n",
       "      <td>0195153448</td>\n",
       "      <td>Classical Mythology</td>\n",
       "      <td>Mark P. O. Morford</td>\n",
       "      <td>2002</td>\n",
       "      <td>Oxford University Press</td>\n",
       "      <td>http://images.amazon.com/images/P/0195153448.0...</td>\n",
       "    </tr>\n",
       "    <tr>\n",
       "      <th>1</th>\n",
       "      <td>0002005018</td>\n",
       "      <td>Clara Callan</td>\n",
       "      <td>Richard Bruce Wright</td>\n",
       "      <td>2001</td>\n",
       "      <td>HarperFlamingo Canada</td>\n",
       "      <td>http://images.amazon.com/images/P/0002005018.0...</td>\n",
       "    </tr>\n",
       "  </tbody>\n",
       "</table>\n",
       "</div>"
      ],
      "text/plain": [
       "         ISBN           Book-Title           Book-Author Year-Of-Publication  \\\n",
       "0  0195153448  Classical Mythology    Mark P. O. Morford                2002   \n",
       "1  0002005018         Clara Callan  Richard Bruce Wright                2001   \n",
       "\n",
       "                 Publisher                                        Image-URL-L  \n",
       "0  Oxford University Press  http://images.amazon.com/images/P/0195153448.0...  \n",
       "1    HarperFlamingo Canada  http://images.amazon.com/images/P/0002005018.0...  "
      ]
     },
     "execution_count": 7,
     "metadata": {},
     "output_type": "execute_result"
    }
   ],
   "source": [
    "books.head(2)"
   ]
  },
  {
   "cell_type": "code",
   "execution_count": 8,
   "id": "e0893471",
   "metadata": {},
   "outputs": [],
   "source": [
    "books.rename(columns = {\n",
    "    \"Book-Title\":\"title\",\n",
    "    \"Book-Author\":\"author\",\n",
    "    \"Year-Of-Publication\":\"year\",\n",
    "    \"Publisher\":\"publisher\",\n",
    "    \"Image-URL-L\" : \"img_url\"\n",
    "}, inplace=True)"
   ]
  },
  {
   "cell_type": "code",
   "execution_count": 9,
   "id": "f9f9f3ab",
   "metadata": {},
   "outputs": [
    {
     "data": {
      "text/html": [
       "<div>\n",
       "<style scoped>\n",
       "    .dataframe tbody tr th:only-of-type {\n",
       "        vertical-align: middle;\n",
       "    }\n",
       "\n",
       "    .dataframe tbody tr th {\n",
       "        vertical-align: top;\n",
       "    }\n",
       "\n",
       "    .dataframe thead th {\n",
       "        text-align: right;\n",
       "    }\n",
       "</style>\n",
       "<table border=\"1\" class=\"dataframe\">\n",
       "  <thead>\n",
       "    <tr style=\"text-align: right;\">\n",
       "      <th></th>\n",
       "      <th>ISBN</th>\n",
       "      <th>title</th>\n",
       "      <th>author</th>\n",
       "      <th>year</th>\n",
       "      <th>publisher</th>\n",
       "      <th>img_url</th>\n",
       "    </tr>\n",
       "  </thead>\n",
       "  <tbody>\n",
       "    <tr>\n",
       "      <th>0</th>\n",
       "      <td>0195153448</td>\n",
       "      <td>Classical Mythology</td>\n",
       "      <td>Mark P. O. Morford</td>\n",
       "      <td>2002</td>\n",
       "      <td>Oxford University Press</td>\n",
       "      <td>http://images.amazon.com/images/P/0195153448.0...</td>\n",
       "    </tr>\n",
       "    <tr>\n",
       "      <th>1</th>\n",
       "      <td>0002005018</td>\n",
       "      <td>Clara Callan</td>\n",
       "      <td>Richard Bruce Wright</td>\n",
       "      <td>2001</td>\n",
       "      <td>HarperFlamingo Canada</td>\n",
       "      <td>http://images.amazon.com/images/P/0002005018.0...</td>\n",
       "    </tr>\n",
       "  </tbody>\n",
       "</table>\n",
       "</div>"
      ],
      "text/plain": [
       "         ISBN                title                author  year  \\\n",
       "0  0195153448  Classical Mythology    Mark P. O. Morford  2002   \n",
       "1  0002005018         Clara Callan  Richard Bruce Wright  2001   \n",
       "\n",
       "                 publisher                                            img_url  \n",
       "0  Oxford University Press  http://images.amazon.com/images/P/0195153448.0...  \n",
       "1    HarperFlamingo Canada  http://images.amazon.com/images/P/0002005018.0...  "
      ]
     },
     "execution_count": 9,
     "metadata": {},
     "output_type": "execute_result"
    }
   ],
   "source": [
    "books.head(2)"
   ]
  },
  {
   "cell_type": "code",
   "execution_count": 3,
   "id": "ce8425e7",
   "metadata": {},
   "outputs": [],
   "source": [
    "users = pd.read_csv('data/BX-Users.csv', sep=';', error_bad_lines=False, encoding='latin-1')"
   ]
  },
  {
   "cell_type": "code",
   "execution_count": 11,
   "id": "2579f93c",
   "metadata": {},
   "outputs": [
    {
     "data": {
      "text/html": [
       "<div>\n",
       "<style scoped>\n",
       "    .dataframe tbody tr th:only-of-type {\n",
       "        vertical-align: middle;\n",
       "    }\n",
       "\n",
       "    .dataframe tbody tr th {\n",
       "        vertical-align: top;\n",
       "    }\n",
       "\n",
       "    .dataframe thead th {\n",
       "        text-align: right;\n",
       "    }\n",
       "</style>\n",
       "<table border=\"1\" class=\"dataframe\">\n",
       "  <thead>\n",
       "    <tr style=\"text-align: right;\">\n",
       "      <th></th>\n",
       "      <th>User-ID</th>\n",
       "      <th>Location</th>\n",
       "      <th>Age</th>\n",
       "    </tr>\n",
       "  </thead>\n",
       "  <tbody>\n",
       "    <tr>\n",
       "      <th>0</th>\n",
       "      <td>1</td>\n",
       "      <td>nyc, new york, usa</td>\n",
       "      <td>NaN</td>\n",
       "    </tr>\n",
       "    <tr>\n",
       "      <th>1</th>\n",
       "      <td>2</td>\n",
       "      <td>stockton, california, usa</td>\n",
       "      <td>18.0</td>\n",
       "    </tr>\n",
       "  </tbody>\n",
       "</table>\n",
       "</div>"
      ],
      "text/plain": [
       "   User-ID                   Location   Age\n",
       "0        1         nyc, new york, usa   NaN\n",
       "1        2  stockton, california, usa  18.0"
      ]
     },
     "execution_count": 11,
     "metadata": {},
     "output_type": "execute_result"
    }
   ],
   "source": [
    "users.head(2)"
   ]
  },
  {
   "cell_type": "code",
   "execution_count": 12,
   "id": "c1e4d548",
   "metadata": {},
   "outputs": [
    {
     "data": {
      "text/plain": [
       "(278858, 3)"
      ]
     },
     "execution_count": 12,
     "metadata": {},
     "output_type": "execute_result"
    }
   ],
   "source": [
    "users.shape"
   ]
  },
  {
   "cell_type": "code",
   "execution_count": 4,
   "id": "128eec55",
   "metadata": {},
   "outputs": [],
   "source": [
    "ratings = pd.read_csv('data/BX-Book-Ratings.csv', sep=';', error_bad_lines=False, encoding='latin-1')"
   ]
  },
  {
   "cell_type": "code",
   "execution_count": 14,
   "id": "90bad90d",
   "metadata": {},
   "outputs": [
    {
     "data": {
      "text/html": [
       "<div>\n",
       "<style scoped>\n",
       "    .dataframe tbody tr th:only-of-type {\n",
       "        vertical-align: middle;\n",
       "    }\n",
       "\n",
       "    .dataframe tbody tr th {\n",
       "        vertical-align: top;\n",
       "    }\n",
       "\n",
       "    .dataframe thead th {\n",
       "        text-align: right;\n",
       "    }\n",
       "</style>\n",
       "<table border=\"1\" class=\"dataframe\">\n",
       "  <thead>\n",
       "    <tr style=\"text-align: right;\">\n",
       "      <th></th>\n",
       "      <th>User-ID</th>\n",
       "      <th>ISBN</th>\n",
       "      <th>Book-Rating</th>\n",
       "    </tr>\n",
       "  </thead>\n",
       "  <tbody>\n",
       "    <tr>\n",
       "      <th>0</th>\n",
       "      <td>276725</td>\n",
       "      <td>034545104X</td>\n",
       "      <td>0</td>\n",
       "    </tr>\n",
       "    <tr>\n",
       "      <th>1</th>\n",
       "      <td>276726</td>\n",
       "      <td>0155061224</td>\n",
       "      <td>5</td>\n",
       "    </tr>\n",
       "  </tbody>\n",
       "</table>\n",
       "</div>"
      ],
      "text/plain": [
       "   User-ID        ISBN  Book-Rating\n",
       "0   276725  034545104X            0\n",
       "1   276726  0155061224            5"
      ]
     },
     "execution_count": 14,
     "metadata": {},
     "output_type": "execute_result"
    }
   ],
   "source": [
    "ratings.head(2)"
   ]
  },
  {
   "cell_type": "code",
   "execution_count": 15,
   "id": "22976c8a",
   "metadata": {},
   "outputs": [
    {
     "data": {
      "text/plain": [
       "(1149780, 3)"
      ]
     },
     "execution_count": 15,
     "metadata": {},
     "output_type": "execute_result"
    }
   ],
   "source": [
    "ratings.shape"
   ]
  },
  {
   "cell_type": "code",
   "execution_count": 16,
   "id": "9d601a37",
   "metadata": {},
   "outputs": [
    {
     "name": "stdout",
     "output_type": "stream",
     "text": [
      "(271360, 6)\n",
      "(278858, 3)\n",
      "(1149780, 3)\n"
     ]
    }
   ],
   "source": [
    "print(books.shape)\n",
    "print(users.shape)\n",
    "print(ratings.shape)"
   ]
  },
  {
   "cell_type": "code",
   "execution_count": 17,
   "id": "3aece90f",
   "metadata": {},
   "outputs": [],
   "source": [
    "ratings.rename(columns = {\n",
    "    \"User-ID\" : \"user_id\",\n",
    "    \"Book-Rating\":\"rating\"\n",
    "}, inplace=True)"
   ]
  },
  {
   "cell_type": "code",
   "execution_count": 18,
   "id": "76d4f661",
   "metadata": {},
   "outputs": [
    {
     "data": {
      "text/html": [
       "<div>\n",
       "<style scoped>\n",
       "    .dataframe tbody tr th:only-of-type {\n",
       "        vertical-align: middle;\n",
       "    }\n",
       "\n",
       "    .dataframe tbody tr th {\n",
       "        vertical-align: top;\n",
       "    }\n",
       "\n",
       "    .dataframe thead th {\n",
       "        text-align: right;\n",
       "    }\n",
       "</style>\n",
       "<table border=\"1\" class=\"dataframe\">\n",
       "  <thead>\n",
       "    <tr style=\"text-align: right;\">\n",
       "      <th></th>\n",
       "      <th>user_id</th>\n",
       "      <th>ISBN</th>\n",
       "      <th>rating</th>\n",
       "    </tr>\n",
       "  </thead>\n",
       "  <tbody>\n",
       "    <tr>\n",
       "      <th>0</th>\n",
       "      <td>276725</td>\n",
       "      <td>034545104X</td>\n",
       "      <td>0</td>\n",
       "    </tr>\n",
       "    <tr>\n",
       "      <th>1</th>\n",
       "      <td>276726</td>\n",
       "      <td>0155061224</td>\n",
       "      <td>5</td>\n",
       "    </tr>\n",
       "  </tbody>\n",
       "</table>\n",
       "</div>"
      ],
      "text/plain": [
       "   user_id        ISBN  rating\n",
       "0   276725  034545104X       0\n",
       "1   276726  0155061224       5"
      ]
     },
     "execution_count": 18,
     "metadata": {},
     "output_type": "execute_result"
    }
   ],
   "source": [
    "ratings.head(2)"
   ]
  },
  {
   "cell_type": "code",
   "execution_count": 19,
   "id": "fda710ad",
   "metadata": {},
   "outputs": [
    {
     "data": {
      "text/plain": [
       "11676     13602\n",
       "198711     7550\n",
       "153662     6109\n",
       "98391      5891\n",
       "35859      5850\n",
       "          ...  \n",
       "158698        1\n",
       "17920         1\n",
       "277135        1\n",
       "275086        1\n",
       "187812        1\n",
       "Name: user_id, Length: 105283, dtype: int64"
      ]
     },
     "execution_count": 19,
     "metadata": {},
     "output_type": "execute_result"
    }
   ],
   "source": [
    "ratings['user_id'].value_counts()"
   ]
  },
  {
   "cell_type": "markdown",
   "id": "8405c05b",
   "metadata": {},
   "source": [
    "as we can see here there are users that rated more than 13k books and thats impossible se can filter those rows out"
   ]
  },
  {
   "cell_type": "code",
   "execution_count": 20,
   "id": "f29badbd",
   "metadata": {},
   "outputs": [
    {
     "data": {
      "text/plain": [
       "(105283,)"
      ]
     },
     "execution_count": 20,
     "metadata": {},
     "output_type": "execute_result"
    }
   ],
   "source": [
    "ratings['user_id'].unique().shape"
   ]
  },
  {
   "cell_type": "code",
   "execution_count": 21,
   "id": "b2fd4145",
   "metadata": {},
   "outputs": [
    {
     "data": {
      "text/plain": [
       "11676      True\n",
       "198711     True\n",
       "153662     True\n",
       "98391      True\n",
       "35859      True\n",
       "          ...  \n",
       "158698    False\n",
       "17920     False\n",
       "277135    False\n",
       "275086    False\n",
       "187812    False\n",
       "Name: user_id, Length: 105283, dtype: bool"
      ]
     },
     "execution_count": 21,
     "metadata": {},
     "output_type": "execute_result"
    }
   ],
   "source": [
    "x=ratings['user_id'].value_counts()>200\n",
    "x"
   ]
  },
  {
   "cell_type": "markdown",
   "id": "98ac841a",
   "metadata": {},
   "source": [
    "true => have more than 200 ratings , false => have less than 200 ratings"
   ]
  },
  {
   "cell_type": "code",
   "execution_count": 22,
   "id": "5c937751",
   "metadata": {},
   "outputs": [
    {
     "data": {
      "text/plain": [
       "(899,)"
      ]
     },
     "execution_count": 22,
     "metadata": {},
     "output_type": "execute_result"
    }
   ],
   "source": [
    "x[x].shape"
   ]
  },
  {
   "cell_type": "markdown",
   "id": "4dc4a699",
   "metadata": {},
   "source": [
    "so there is 899 user who had rated more than 200 ratings, so we can filter out those users\n",
    "##### so first we will get there indexes ( user_id )"
   ]
  },
  {
   "cell_type": "code",
   "execution_count": 23,
   "id": "83c26158",
   "metadata": {},
   "outputs": [
    {
     "data": {
      "text/plain": [
       "Int64Index([ 11676, 198711, 153662,  98391,  35859, 212898, 278418,  76352,\n",
       "            110973, 235105,\n",
       "            ...\n",
       "            260183, 155916,  44296,  73681,  59727,  28634, 188951,   9856,\n",
       "            268622, 274808],\n",
       "           dtype='int64', length=899)"
      ]
     },
     "execution_count": 23,
     "metadata": {},
     "output_type": "execute_result"
    }
   ],
   "source": [
    "y = x[x].index\n",
    "y"
   ]
  },
  {
   "cell_type": "code",
   "execution_count": 24,
   "id": "353a05b5",
   "metadata": {},
   "outputs": [],
   "source": [
    "ratingsMore200 = ratings[ratings['user_id'].isin(y)]"
   ]
  },
  {
   "cell_type": "code",
   "execution_count": 25,
   "id": "63dfe930",
   "metadata": {},
   "outputs": [
    {
     "data": {
      "text/html": [
       "<div>\n",
       "<style scoped>\n",
       "    .dataframe tbody tr th:only-of-type {\n",
       "        vertical-align: middle;\n",
       "    }\n",
       "\n",
       "    .dataframe tbody tr th {\n",
       "        vertical-align: top;\n",
       "    }\n",
       "\n",
       "    .dataframe thead th {\n",
       "        text-align: right;\n",
       "    }\n",
       "</style>\n",
       "<table border=\"1\" class=\"dataframe\">\n",
       "  <thead>\n",
       "    <tr style=\"text-align: right;\">\n",
       "      <th></th>\n",
       "      <th>user_id</th>\n",
       "      <th>ISBN</th>\n",
       "      <th>rating</th>\n",
       "    </tr>\n",
       "  </thead>\n",
       "  <tbody>\n",
       "    <tr>\n",
       "      <th>1456</th>\n",
       "      <td>277427</td>\n",
       "      <td>002542730X</td>\n",
       "      <td>10</td>\n",
       "    </tr>\n",
       "    <tr>\n",
       "      <th>1457</th>\n",
       "      <td>277427</td>\n",
       "      <td>0026217457</td>\n",
       "      <td>0</td>\n",
       "    </tr>\n",
       "    <tr>\n",
       "      <th>1458</th>\n",
       "      <td>277427</td>\n",
       "      <td>003008685X</td>\n",
       "      <td>8</td>\n",
       "    </tr>\n",
       "    <tr>\n",
       "      <th>1459</th>\n",
       "      <td>277427</td>\n",
       "      <td>0030615321</td>\n",
       "      <td>0</td>\n",
       "    </tr>\n",
       "    <tr>\n",
       "      <th>1460</th>\n",
       "      <td>277427</td>\n",
       "      <td>0060002050</td>\n",
       "      <td>0</td>\n",
       "    </tr>\n",
       "  </tbody>\n",
       "</table>\n",
       "</div>"
      ],
      "text/plain": [
       "      user_id        ISBN  rating\n",
       "1456   277427  002542730X      10\n",
       "1457   277427  0026217457       0\n",
       "1458   277427  003008685X       8\n",
       "1459   277427  0030615321       0\n",
       "1460   277427  0060002050       0"
      ]
     },
     "execution_count": 25,
     "metadata": {},
     "output_type": "execute_result"
    }
   ],
   "source": [
    "ratingsMore200.head()"
   ]
  },
  {
   "cell_type": "code",
   "execution_count": 26,
   "id": "621f56a1",
   "metadata": {},
   "outputs": [
    {
     "data": {
      "text/plain": [
       "(526356, 3)"
      ]
     },
     "execution_count": 26,
     "metadata": {},
     "output_type": "execute_result"
    }
   ],
   "source": [
    "ratingsMore200.shape"
   ]
  },
  {
   "cell_type": "code",
   "execution_count": 27,
   "id": "8996bd7e",
   "metadata": {},
   "outputs": [
    {
     "data": {
      "text/html": [
       "<div>\n",
       "<style scoped>\n",
       "    .dataframe tbody tr th:only-of-type {\n",
       "        vertical-align: middle;\n",
       "    }\n",
       "\n",
       "    .dataframe tbody tr th {\n",
       "        vertical-align: top;\n",
       "    }\n",
       "\n",
       "    .dataframe thead th {\n",
       "        text-align: right;\n",
       "    }\n",
       "</style>\n",
       "<table border=\"1\" class=\"dataframe\">\n",
       "  <thead>\n",
       "    <tr style=\"text-align: right;\">\n",
       "      <th></th>\n",
       "      <th>ISBN</th>\n",
       "      <th>title</th>\n",
       "      <th>author</th>\n",
       "      <th>year</th>\n",
       "      <th>publisher</th>\n",
       "      <th>img_url</th>\n",
       "    </tr>\n",
       "  </thead>\n",
       "  <tbody>\n",
       "    <tr>\n",
       "      <th>0</th>\n",
       "      <td>0195153448</td>\n",
       "      <td>Classical Mythology</td>\n",
       "      <td>Mark P. O. Morford</td>\n",
       "      <td>2002</td>\n",
       "      <td>Oxford University Press</td>\n",
       "      <td>http://images.amazon.com/images/P/0195153448.0...</td>\n",
       "    </tr>\n",
       "    <tr>\n",
       "      <th>1</th>\n",
       "      <td>0002005018</td>\n",
       "      <td>Clara Callan</td>\n",
       "      <td>Richard Bruce Wright</td>\n",
       "      <td>2001</td>\n",
       "      <td>HarperFlamingo Canada</td>\n",
       "      <td>http://images.amazon.com/images/P/0002005018.0...</td>\n",
       "    </tr>\n",
       "  </tbody>\n",
       "</table>\n",
       "</div>"
      ],
      "text/plain": [
       "         ISBN                title                author  year  \\\n",
       "0  0195153448  Classical Mythology    Mark P. O. Morford  2002   \n",
       "1  0002005018         Clara Callan  Richard Bruce Wright  2001   \n",
       "\n",
       "                 publisher                                            img_url  \n",
       "0  Oxford University Press  http://images.amazon.com/images/P/0195153448.0...  \n",
       "1    HarperFlamingo Canada  http://images.amazon.com/images/P/0002005018.0...  "
      ]
     },
     "execution_count": 27,
     "metadata": {},
     "output_type": "execute_result"
    }
   ],
   "source": [
    "books.head(2)"
   ]
  },
  {
   "cell_type": "code",
   "execution_count": 28,
   "id": "6bc3c0bd",
   "metadata": {},
   "outputs": [
    {
     "data": {
      "text/html": [
       "<div>\n",
       "<style scoped>\n",
       "    .dataframe tbody tr th:only-of-type {\n",
       "        vertical-align: middle;\n",
       "    }\n",
       "\n",
       "    .dataframe tbody tr th {\n",
       "        vertical-align: top;\n",
       "    }\n",
       "\n",
       "    .dataframe thead th {\n",
       "        text-align: right;\n",
       "    }\n",
       "</style>\n",
       "<table border=\"1\" class=\"dataframe\">\n",
       "  <thead>\n",
       "    <tr style=\"text-align: right;\">\n",
       "      <th></th>\n",
       "      <th>user_id</th>\n",
       "      <th>ISBN</th>\n",
       "      <th>rating</th>\n",
       "      <th>title</th>\n",
       "      <th>author</th>\n",
       "      <th>year</th>\n",
       "      <th>publisher</th>\n",
       "      <th>img_url</th>\n",
       "    </tr>\n",
       "  </thead>\n",
       "  <tbody>\n",
       "    <tr>\n",
       "      <th>0</th>\n",
       "      <td>277427</td>\n",
       "      <td>002542730X</td>\n",
       "      <td>10</td>\n",
       "      <td>Politically Correct Bedtime Stories: Modern Ta...</td>\n",
       "      <td>James Finn Garner</td>\n",
       "      <td>1994</td>\n",
       "      <td>John Wiley &amp;amp; Sons Inc</td>\n",
       "      <td>http://images.amazon.com/images/P/002542730X.0...</td>\n",
       "    </tr>\n",
       "    <tr>\n",
       "      <th>1</th>\n",
       "      <td>3363</td>\n",
       "      <td>002542730X</td>\n",
       "      <td>0</td>\n",
       "      <td>Politically Correct Bedtime Stories: Modern Ta...</td>\n",
       "      <td>James Finn Garner</td>\n",
       "      <td>1994</td>\n",
       "      <td>John Wiley &amp;amp; Sons Inc</td>\n",
       "      <td>http://images.amazon.com/images/P/002542730X.0...</td>\n",
       "    </tr>\n",
       "  </tbody>\n",
       "</table>\n",
       "</div>"
      ],
      "text/plain": [
       "   user_id        ISBN  rating  \\\n",
       "0   277427  002542730X      10   \n",
       "1     3363  002542730X       0   \n",
       "\n",
       "                                               title             author  year  \\\n",
       "0  Politically Correct Bedtime Stories: Modern Ta...  James Finn Garner  1994   \n",
       "1  Politically Correct Bedtime Stories: Modern Ta...  James Finn Garner  1994   \n",
       "\n",
       "                   publisher  \\\n",
       "0  John Wiley &amp; Sons Inc   \n",
       "1  John Wiley &amp; Sons Inc   \n",
       "\n",
       "                                             img_url  \n",
       "0  http://images.amazon.com/images/P/002542730X.0...  \n",
       "1  http://images.amazon.com/images/P/002542730X.0...  "
      ]
     },
     "execution_count": 28,
     "metadata": {},
     "output_type": "execute_result"
    }
   ],
   "source": [
    "rating_with_books = ratingsMore200.merge(books, on = \"ISBN\")\n",
    "rating_with_books.head(2)"
   ]
  },
  {
   "cell_type": "code",
   "execution_count": 29,
   "id": "84a0dcb4",
   "metadata": {},
   "outputs": [
    {
     "data": {
      "text/plain": [
       "(487671, 8)"
      ]
     },
     "execution_count": 29,
     "metadata": {},
     "output_type": "execute_result"
    }
   ],
   "source": [
    "rating_with_books.shape"
   ]
  },
  {
   "cell_type": "code",
   "execution_count": 30,
   "id": "8f9128c1",
   "metadata": {},
   "outputs": [
    {
     "data": {
      "text/html": [
       "<div>\n",
       "<style scoped>\n",
       "    .dataframe tbody tr th:only-of-type {\n",
       "        vertical-align: middle;\n",
       "    }\n",
       "\n",
       "    .dataframe tbody tr th {\n",
       "        vertical-align: top;\n",
       "    }\n",
       "\n",
       "    .dataframe thead th {\n",
       "        text-align: right;\n",
       "    }\n",
       "</style>\n",
       "<table border=\"1\" class=\"dataframe\">\n",
       "  <thead>\n",
       "    <tr style=\"text-align: right;\">\n",
       "      <th></th>\n",
       "      <th>title</th>\n",
       "      <th>rating</th>\n",
       "    </tr>\n",
       "  </thead>\n",
       "  <tbody>\n",
       "    <tr>\n",
       "      <th>0</th>\n",
       "      <td>A Light in the Storm: The Civil War Diary of ...</td>\n",
       "      <td>2</td>\n",
       "    </tr>\n",
       "    <tr>\n",
       "      <th>1</th>\n",
       "      <td>Always Have Popsicles</td>\n",
       "      <td>1</td>\n",
       "    </tr>\n",
       "    <tr>\n",
       "      <th>2</th>\n",
       "      <td>Apple Magic (The Collector's series)</td>\n",
       "      <td>1</td>\n",
       "    </tr>\n",
       "    <tr>\n",
       "      <th>3</th>\n",
       "      <td>Beyond IBM: Leadership Marketing and Finance ...</td>\n",
       "      <td>1</td>\n",
       "    </tr>\n",
       "    <tr>\n",
       "      <th>4</th>\n",
       "      <td>Clifford Visita El Hospital (Clifford El Gran...</td>\n",
       "      <td>1</td>\n",
       "    </tr>\n",
       "  </tbody>\n",
       "</table>\n",
       "</div>"
      ],
      "text/plain": [
       "                                               title  rating\n",
       "0   A Light in the Storm: The Civil War Diary of ...       2\n",
       "1                              Always Have Popsicles       1\n",
       "2               Apple Magic (The Collector's series)       1\n",
       "3   Beyond IBM: Leadership Marketing and Finance ...       1\n",
       "4   Clifford Visita El Hospital (Clifford El Gran...       1"
      ]
     },
     "execution_count": 30,
     "metadata": {},
     "output_type": "execute_result"
    }
   ],
   "source": [
    "num_rating = rating_with_books.groupby('title')['rating'].count().reset_index()\n",
    "num_rating.head()"
   ]
  },
  {
   "cell_type": "markdown",
   "id": "03e62a11",
   "metadata": {},
   "source": [
    "we can see here that some books has just one rating, we can filter out those books because we can't rely on 1 rating, it will disturb the analysis, so we need to just take books which has more than 50 ratings for example. which mean those books had been rated by people but 1 rating is not enough maybe just a friend of the author who had rated hhhhhh"
   ]
  },
  {
   "cell_type": "code",
   "execution_count": 31,
   "id": "649be990",
   "metadata": {},
   "outputs": [],
   "source": [
    "num_rating.rename(columns = {\"rating\" : \"num_of_rating\"}, inplace= True)"
   ]
  },
  {
   "cell_type": "code",
   "execution_count": 32,
   "id": "7150227d",
   "metadata": {},
   "outputs": [
    {
     "data": {
      "text/html": [
       "<div>\n",
       "<style scoped>\n",
       "    .dataframe tbody tr th:only-of-type {\n",
       "        vertical-align: middle;\n",
       "    }\n",
       "\n",
       "    .dataframe tbody tr th {\n",
       "        vertical-align: top;\n",
       "    }\n",
       "\n",
       "    .dataframe thead th {\n",
       "        text-align: right;\n",
       "    }\n",
       "</style>\n",
       "<table border=\"1\" class=\"dataframe\">\n",
       "  <thead>\n",
       "    <tr style=\"text-align: right;\">\n",
       "      <th></th>\n",
       "      <th>title</th>\n",
       "      <th>num_of_rating</th>\n",
       "    </tr>\n",
       "  </thead>\n",
       "  <tbody>\n",
       "    <tr>\n",
       "      <th>0</th>\n",
       "      <td>A Light in the Storm: The Civil War Diary of ...</td>\n",
       "      <td>2</td>\n",
       "    </tr>\n",
       "    <tr>\n",
       "      <th>1</th>\n",
       "      <td>Always Have Popsicles</td>\n",
       "      <td>1</td>\n",
       "    </tr>\n",
       "  </tbody>\n",
       "</table>\n",
       "</div>"
      ],
      "text/plain": [
       "                                               title  num_of_rating\n",
       "0   A Light in the Storm: The Civil War Diary of ...              2\n",
       "1                              Always Have Popsicles              1"
      ]
     },
     "execution_count": 32,
     "metadata": {},
     "output_type": "execute_result"
    }
   ],
   "source": [
    "num_rating.head(2)"
   ]
  },
  {
   "cell_type": "code",
   "execution_count": 33,
   "id": "2953189b",
   "metadata": {},
   "outputs": [
    {
     "data": {
      "text/html": [
       "<div>\n",
       "<style scoped>\n",
       "    .dataframe tbody tr th:only-of-type {\n",
       "        vertical-align: middle;\n",
       "    }\n",
       "\n",
       "    .dataframe tbody tr th {\n",
       "        vertical-align: top;\n",
       "    }\n",
       "\n",
       "    .dataframe thead th {\n",
       "        text-align: right;\n",
       "    }\n",
       "</style>\n",
       "<table border=\"1\" class=\"dataframe\">\n",
       "  <thead>\n",
       "    <tr style=\"text-align: right;\">\n",
       "      <th></th>\n",
       "      <th>user_id</th>\n",
       "      <th>ISBN</th>\n",
       "      <th>rating</th>\n",
       "      <th>title</th>\n",
       "      <th>author</th>\n",
       "      <th>year</th>\n",
       "      <th>publisher</th>\n",
       "      <th>img_url</th>\n",
       "      <th>num_of_rating</th>\n",
       "    </tr>\n",
       "  </thead>\n",
       "  <tbody>\n",
       "    <tr>\n",
       "      <th>0</th>\n",
       "      <td>277427</td>\n",
       "      <td>002542730X</td>\n",
       "      <td>10</td>\n",
       "      <td>Politically Correct Bedtime Stories: Modern Ta...</td>\n",
       "      <td>James Finn Garner</td>\n",
       "      <td>1994</td>\n",
       "      <td>John Wiley &amp;amp; Sons Inc</td>\n",
       "      <td>http://images.amazon.com/images/P/002542730X.0...</td>\n",
       "      <td>82</td>\n",
       "    </tr>\n",
       "    <tr>\n",
       "      <th>1</th>\n",
       "      <td>3363</td>\n",
       "      <td>002542730X</td>\n",
       "      <td>0</td>\n",
       "      <td>Politically Correct Bedtime Stories: Modern Ta...</td>\n",
       "      <td>James Finn Garner</td>\n",
       "      <td>1994</td>\n",
       "      <td>John Wiley &amp;amp; Sons Inc</td>\n",
       "      <td>http://images.amazon.com/images/P/002542730X.0...</td>\n",
       "      <td>82</td>\n",
       "    </tr>\n",
       "  </tbody>\n",
       "</table>\n",
       "</div>"
      ],
      "text/plain": [
       "   user_id        ISBN  rating  \\\n",
       "0   277427  002542730X      10   \n",
       "1     3363  002542730X       0   \n",
       "\n",
       "                                               title             author  year  \\\n",
       "0  Politically Correct Bedtime Stories: Modern Ta...  James Finn Garner  1994   \n",
       "1  Politically Correct Bedtime Stories: Modern Ta...  James Finn Garner  1994   \n",
       "\n",
       "                   publisher  \\\n",
       "0  John Wiley &amp; Sons Inc   \n",
       "1  John Wiley &amp; Sons Inc   \n",
       "\n",
       "                                             img_url  num_of_rating  \n",
       "0  http://images.amazon.com/images/P/002542730X.0...             82  \n",
       "1  http://images.amazon.com/images/P/002542730X.0...             82  "
      ]
     },
     "execution_count": 33,
     "metadata": {},
     "output_type": "execute_result"
    }
   ],
   "source": [
    "final_rating = rating_with_books.merge(num_rating, on=\"title\")\n",
    "final_rating.head(2)"
   ]
  },
  {
   "cell_type": "markdown",
   "id": "32dcc344",
   "metadata": {},
   "source": [
    "now that we have this dataset we can cut out those books which has below than 50 num_of_rating, we will work just with more than 50 ratings"
   ]
  },
  {
   "cell_type": "code",
   "execution_count": 34,
   "id": "906bfd7b",
   "metadata": {},
   "outputs": [
    {
     "data": {
      "text/plain": [
       "array([ 82, 133, 108,  79,  77,  91, 103, 209, 105, 115,  55, 114, 116,\n",
       "        68, 270, 146,  53,  83, 137,  66,  86,  94,  78,  84, 180, 142,\n",
       "        71,  58, 224, 120,  61, 136,  67,  52,  56, 121,  64, 123, 183,\n",
       "       138,  62,  81, 159, 186, 171, 149,  54, 150, 124,  95, 148,  80,\n",
       "       132,  93,  90,  50, 126,  87,  51,  92,  70, 111,  73,  57, 363,\n",
       "       135,  96, 140, 182, 175, 130, 118, 127, 122,  69,  63,  97, 210,\n",
       "       236, 213, 119,  89,  88,  60, 112, 101,  65, 110, 228,  85, 104,\n",
       "       151,  74, 227,  76, 179,  59,  72, 188, 169, 134, 161, 241, 212,\n",
       "        98, 100, 277, 174, 131, 125,  99, 107, 128, 206, 181, 168, 117,\n",
       "       109, 113, 145, 200, 230, 177, 143,  75, 185, 163, 129, 162, 193],\n",
       "      dtype=int64)"
      ]
     },
     "execution_count": 34,
     "metadata": {},
     "output_type": "execute_result"
    }
   ],
   "source": [
    "final_rating = final_rating[final_rating['num_of_rating'] >= 50]\n",
    "final_rating['num_of_rating'].unique()"
   ]
  },
  {
   "cell_type": "markdown",
   "id": "ee165837",
   "metadata": {},
   "source": [
    "so we successfully cut out books with below than 50 in num_of_rating"
   ]
  },
  {
   "cell_type": "code",
   "execution_count": 35,
   "id": "2334b1ce",
   "metadata": {},
   "outputs": [
    {
     "data": {
      "text/plain": [
       "(61853, 9)"
      ]
     },
     "execution_count": 35,
     "metadata": {},
     "output_type": "execute_result"
    }
   ],
   "source": [
    "final_rating.shape"
   ]
  },
  {
   "cell_type": "code",
   "execution_count": 36,
   "id": "5b898d56",
   "metadata": {},
   "outputs": [
    {
     "name": "stdout",
     "output_type": "stream",
     "text": [
      "Duplicate Rows:\n",
      "        user_id        ISBN  rating              title  \\\n",
      "680       11676  006440188X      10  The Secret Garden   \n",
      "692      174304  006440188X       9  The Secret Garden   \n",
      "700      252695  006440188X       0  The Secret Garden   \n",
      "702       11676  0440977096      10  The Secret Garden   \n",
      "706      174791  0440977096       0  The Secret Garden   \n",
      "...         ...         ...     ...                ...   \n",
      "228839   162639  0553292722       0       Still Waters   \n",
      "228845   185233  0553292722       0       Still Waters   \n",
      "228875   113270  0743439651       0       Still Waters   \n",
      "228876   162639  0743439651       0       Still Waters   \n",
      "228884   185233  074350996X       0       Still Waters   \n",
      "\n",
      "                         author  year                   publisher  \\\n",
      "680     Frances Hodgson Burnett  1998                HarperTrophy   \n",
      "692     Frances Hodgson Burnett  1998                HarperTrophy   \n",
      "700     Frances Hodgson Burnett  1998                HarperTrophy   \n",
      "702     Frances Hodgson Burnett  1989                  Laure Leaf   \n",
      "706     Frances Hodgson Burnett  1989                  Laure Leaf   \n",
      "...                         ...   ...                         ...   \n",
      "228839                TAMI HOAG  1992                      Bantam   \n",
      "228845                TAMI HOAG  1992                      Bantam   \n",
      "228875           Jennifer Lauck  2001                       Atria   \n",
      "228876           Jennifer Lauck  2001                       Atria   \n",
      "228884           Jennifer Lauck  2001  Simon &amp; Schuster Audio   \n",
      "\n",
      "                                                  img_url  num_of_rating  \n",
      "680     http://images.amazon.com/images/P/006440188X.0...             79  \n",
      "692     http://images.amazon.com/images/P/006440188X.0...             79  \n",
      "700     http://images.amazon.com/images/P/006440188X.0...             79  \n",
      "702     http://images.amazon.com/images/P/0440977096.0...             79  \n",
      "706     http://images.amazon.com/images/P/0440977096.0...             79  \n",
      "...                                                   ...            ...  \n",
      "228839  http://images.amazon.com/images/P/0553292722.0...             83  \n",
      "228845  http://images.amazon.com/images/P/0553292722.0...             83  \n",
      "228875  http://images.amazon.com/images/P/0743439651.0...             83  \n",
      "228876  http://images.amazon.com/images/P/0743439651.0...             83  \n",
      "228884  http://images.amazon.com/images/P/074350996X.0...             83  \n",
      "\n",
      "[3907 rows x 9 columns]\n"
     ]
    }
   ],
   "source": [
    "duplicate_rows_subset = final_rating[final_rating.duplicated(subset=['user_id', 'title'], keep=False)]\n",
    "print(\"Duplicate Rows:\")\n",
    "print(duplicate_rows_subset)"
   ]
  },
  {
   "cell_type": "code",
   "execution_count": 37,
   "id": "8f5b3819",
   "metadata": {},
   "outputs": [
    {
     "name": "stdout",
     "output_type": "stream",
     "text": [
      "     user_id        ISBN  rating              title                   author  \\\n",
      "680    11676  006440188X      10  The Secret Garden  Frances Hodgson Burnett   \n",
      "702    11676  0440977096      10  The Secret Garden  Frances Hodgson Burnett   \n",
      "710    11676  0879236493       9  The Secret Garden  Frances Hodgson Burnett   \n",
      "\n",
      "     year                  publisher  \\\n",
      "680  1998               HarperTrophy   \n",
      "702  1989                 Laure Leaf   \n",
      "710  1987  David R. Godine Publisher   \n",
      "\n",
      "                                               img_url  num_of_rating  \n",
      "680  http://images.amazon.com/images/P/006440188X.0...             79  \n",
      "702  http://images.amazon.com/images/P/0440977096.0...             79  \n",
      "710  http://images.amazon.com/images/P/0879236493.0...             79  \n"
     ]
    }
   ],
   "source": [
    "filtered_rows = duplicate_rows_subset[(duplicate_rows_subset['user_id'] == 11676) & (duplicate_rows_subset['title'] == 'The Secret Garden')]\n",
    "print(filtered_rows)"
   ]
  },
  {
   "cell_type": "markdown",
   "id": "a6133988",
   "metadata": {},
   "source": [
    "as we see there are duplicates of the same user rating the same title then we can filter those out "
   ]
  },
  {
   "cell_type": "code",
   "execution_count": 38,
   "id": "33384880",
   "metadata": {},
   "outputs": [],
   "source": [
    "final_rating.drop_duplicates(['user_id', 'title'], inplace=True)"
   ]
  },
  {
   "cell_type": "code",
   "execution_count": 39,
   "id": "1e02092e",
   "metadata": {},
   "outputs": [
    {
     "data": {
      "text/plain": [
       "(59850, 9)"
      ]
     },
     "execution_count": 39,
     "metadata": {},
     "output_type": "execute_result"
    }
   ],
   "source": [
    "final_rating.shape"
   ]
  },
  {
   "cell_type": "markdown",
   "id": "0bb02490",
   "metadata": {},
   "source": [
    "now that we somehow cleaned the data, we will pivot it, we will create from this data a matrix that represents in columns the users and in the index the title of the book and the values inside it , it will be the rating of the user to this book\n",
    "like :"
   ]
  },
  {
   "cell_type": "code",
   "execution_count": 40,
   "id": "98f83f80",
   "metadata": {},
   "outputs": [
    {
     "data": {
      "text/html": [
       "<div>\n",
       "<style scoped>\n",
       "    .dataframe tbody tr th:only-of-type {\n",
       "        vertical-align: middle;\n",
       "    }\n",
       "\n",
       "    .dataframe tbody tr th {\n",
       "        vertical-align: top;\n",
       "    }\n",
       "\n",
       "    .dataframe thead th {\n",
       "        text-align: right;\n",
       "    }\n",
       "</style>\n",
       "<table border=\"1\" class=\"dataframe\">\n",
       "  <thead>\n",
       "    <tr style=\"text-align: right;\">\n",
       "      <th>user_id</th>\n",
       "      <th>254</th>\n",
       "      <th>2276</th>\n",
       "      <th>2766</th>\n",
       "      <th>2977</th>\n",
       "      <th>3363</th>\n",
       "      <th>3757</th>\n",
       "      <th>4017</th>\n",
       "      <th>4385</th>\n",
       "      <th>6242</th>\n",
       "      <th>6251</th>\n",
       "      <th>...</th>\n",
       "      <th>274004</th>\n",
       "      <th>274061</th>\n",
       "      <th>274301</th>\n",
       "      <th>274308</th>\n",
       "      <th>274808</th>\n",
       "      <th>275970</th>\n",
       "      <th>277427</th>\n",
       "      <th>277478</th>\n",
       "      <th>277639</th>\n",
       "      <th>278418</th>\n",
       "    </tr>\n",
       "    <tr>\n",
       "      <th>title</th>\n",
       "      <th></th>\n",
       "      <th></th>\n",
       "      <th></th>\n",
       "      <th></th>\n",
       "      <th></th>\n",
       "      <th></th>\n",
       "      <th></th>\n",
       "      <th></th>\n",
       "      <th></th>\n",
       "      <th></th>\n",
       "      <th></th>\n",
       "      <th></th>\n",
       "      <th></th>\n",
       "      <th></th>\n",
       "      <th></th>\n",
       "      <th></th>\n",
       "      <th></th>\n",
       "      <th></th>\n",
       "      <th></th>\n",
       "      <th></th>\n",
       "      <th></th>\n",
       "    </tr>\n",
       "  </thead>\n",
       "  <tbody>\n",
       "    <tr>\n",
       "      <th>1984</th>\n",
       "      <td>9.0</td>\n",
       "      <td>NaN</td>\n",
       "      <td>NaN</td>\n",
       "      <td>NaN</td>\n",
       "      <td>NaN</td>\n",
       "      <td>NaN</td>\n",
       "      <td>NaN</td>\n",
       "      <td>NaN</td>\n",
       "      <td>NaN</td>\n",
       "      <td>NaN</td>\n",
       "      <td>...</td>\n",
       "      <td>NaN</td>\n",
       "      <td>NaN</td>\n",
       "      <td>NaN</td>\n",
       "      <td>NaN</td>\n",
       "      <td>NaN</td>\n",
       "      <td>0.0</td>\n",
       "      <td>NaN</td>\n",
       "      <td>NaN</td>\n",
       "      <td>NaN</td>\n",
       "      <td>NaN</td>\n",
       "    </tr>\n",
       "    <tr>\n",
       "      <th>1st to Die: A Novel</th>\n",
       "      <td>NaN</td>\n",
       "      <td>NaN</td>\n",
       "      <td>NaN</td>\n",
       "      <td>NaN</td>\n",
       "      <td>NaN</td>\n",
       "      <td>NaN</td>\n",
       "      <td>NaN</td>\n",
       "      <td>NaN</td>\n",
       "      <td>NaN</td>\n",
       "      <td>NaN</td>\n",
       "      <td>...</td>\n",
       "      <td>NaN</td>\n",
       "      <td>NaN</td>\n",
       "      <td>NaN</td>\n",
       "      <td>NaN</td>\n",
       "      <td>NaN</td>\n",
       "      <td>NaN</td>\n",
       "      <td>NaN</td>\n",
       "      <td>NaN</td>\n",
       "      <td>NaN</td>\n",
       "      <td>NaN</td>\n",
       "    </tr>\n",
       "  </tbody>\n",
       "</table>\n",
       "<p>2 rows × 888 columns</p>\n",
       "</div>"
      ],
      "text/plain": [
       "user_id              254     2276    2766    2977    3363    3757    4017    \\\n",
       "title                                                                         \n",
       "1984                    9.0     NaN     NaN     NaN     NaN     NaN     NaN   \n",
       "1st to Die: A Novel     NaN     NaN     NaN     NaN     NaN     NaN     NaN   \n",
       "\n",
       "user_id              4385    6242    6251    ...  274004  274061  274301  \\\n",
       "title                                        ...                           \n",
       "1984                    NaN     NaN     NaN  ...     NaN     NaN     NaN   \n",
       "1st to Die: A Novel     NaN     NaN     NaN  ...     NaN     NaN     NaN   \n",
       "\n",
       "user_id              274308  274808  275970  277427  277478  277639  278418  \n",
       "title                                                                        \n",
       "1984                    NaN     NaN     0.0     NaN     NaN     NaN     NaN  \n",
       "1st to Die: A Novel     NaN     NaN     NaN     NaN     NaN     NaN     NaN  \n",
       "\n",
       "[2 rows x 888 columns]"
      ]
     },
     "execution_count": 40,
     "metadata": {},
     "output_type": "execute_result"
    }
   ],
   "source": [
    "book_pivot = final_rating.pivot_table(columns = \"user_id\", index=\"title\", values=\"rating\")\n",
    "book_pivot.head(2)"
   ]
  },
  {
   "cell_type": "code",
   "execution_count": 41,
   "id": "385678f3",
   "metadata": {},
   "outputs": [],
   "source": [
    "book_pivot.fillna(0, inplace=True)"
   ]
  },
  {
   "cell_type": "code",
   "execution_count": 42,
   "id": "42619760",
   "metadata": {
    "scrolled": true
   },
   "outputs": [
    {
     "data": {
      "text/html": [
       "<div>\n",
       "<style scoped>\n",
       "    .dataframe tbody tr th:only-of-type {\n",
       "        vertical-align: middle;\n",
       "    }\n",
       "\n",
       "    .dataframe tbody tr th {\n",
       "        vertical-align: top;\n",
       "    }\n",
       "\n",
       "    .dataframe thead th {\n",
       "        text-align: right;\n",
       "    }\n",
       "</style>\n",
       "<table border=\"1\" class=\"dataframe\">\n",
       "  <thead>\n",
       "    <tr style=\"text-align: right;\">\n",
       "      <th>user_id</th>\n",
       "      <th>254</th>\n",
       "      <th>2276</th>\n",
       "      <th>2766</th>\n",
       "      <th>2977</th>\n",
       "      <th>3363</th>\n",
       "      <th>3757</th>\n",
       "      <th>4017</th>\n",
       "      <th>4385</th>\n",
       "      <th>6242</th>\n",
       "      <th>6251</th>\n",
       "      <th>...</th>\n",
       "      <th>274004</th>\n",
       "      <th>274061</th>\n",
       "      <th>274301</th>\n",
       "      <th>274308</th>\n",
       "      <th>274808</th>\n",
       "      <th>275970</th>\n",
       "      <th>277427</th>\n",
       "      <th>277478</th>\n",
       "      <th>277639</th>\n",
       "      <th>278418</th>\n",
       "    </tr>\n",
       "    <tr>\n",
       "      <th>title</th>\n",
       "      <th></th>\n",
       "      <th></th>\n",
       "      <th></th>\n",
       "      <th></th>\n",
       "      <th></th>\n",
       "      <th></th>\n",
       "      <th></th>\n",
       "      <th></th>\n",
       "      <th></th>\n",
       "      <th></th>\n",
       "      <th></th>\n",
       "      <th></th>\n",
       "      <th></th>\n",
       "      <th></th>\n",
       "      <th></th>\n",
       "      <th></th>\n",
       "      <th></th>\n",
       "      <th></th>\n",
       "      <th></th>\n",
       "      <th></th>\n",
       "      <th></th>\n",
       "    </tr>\n",
       "  </thead>\n",
       "  <tbody>\n",
       "    <tr>\n",
       "      <th>1984</th>\n",
       "      <td>9.0</td>\n",
       "      <td>0.0</td>\n",
       "      <td>0.0</td>\n",
       "      <td>0.0</td>\n",
       "      <td>0.0</td>\n",
       "      <td>0.0</td>\n",
       "      <td>0.0</td>\n",
       "      <td>0.0</td>\n",
       "      <td>0.0</td>\n",
       "      <td>0.0</td>\n",
       "      <td>...</td>\n",
       "      <td>0.0</td>\n",
       "      <td>0.0</td>\n",
       "      <td>0.0</td>\n",
       "      <td>0.0</td>\n",
       "      <td>0.0</td>\n",
       "      <td>0.0</td>\n",
       "      <td>0.0</td>\n",
       "      <td>0.0</td>\n",
       "      <td>0.0</td>\n",
       "      <td>0.0</td>\n",
       "    </tr>\n",
       "    <tr>\n",
       "      <th>1st to Die: A Novel</th>\n",
       "      <td>0.0</td>\n",
       "      <td>0.0</td>\n",
       "      <td>0.0</td>\n",
       "      <td>0.0</td>\n",
       "      <td>0.0</td>\n",
       "      <td>0.0</td>\n",
       "      <td>0.0</td>\n",
       "      <td>0.0</td>\n",
       "      <td>0.0</td>\n",
       "      <td>0.0</td>\n",
       "      <td>...</td>\n",
       "      <td>0.0</td>\n",
       "      <td>0.0</td>\n",
       "      <td>0.0</td>\n",
       "      <td>0.0</td>\n",
       "      <td>0.0</td>\n",
       "      <td>0.0</td>\n",
       "      <td>0.0</td>\n",
       "      <td>0.0</td>\n",
       "      <td>0.0</td>\n",
       "      <td>0.0</td>\n",
       "    </tr>\n",
       "    <tr>\n",
       "      <th>2nd Chance</th>\n",
       "      <td>0.0</td>\n",
       "      <td>10.0</td>\n",
       "      <td>0.0</td>\n",
       "      <td>0.0</td>\n",
       "      <td>0.0</td>\n",
       "      <td>0.0</td>\n",
       "      <td>0.0</td>\n",
       "      <td>0.0</td>\n",
       "      <td>0.0</td>\n",
       "      <td>0.0</td>\n",
       "      <td>...</td>\n",
       "      <td>0.0</td>\n",
       "      <td>0.0</td>\n",
       "      <td>0.0</td>\n",
       "      <td>0.0</td>\n",
       "      <td>0.0</td>\n",
       "      <td>0.0</td>\n",
       "      <td>0.0</td>\n",
       "      <td>0.0</td>\n",
       "      <td>0.0</td>\n",
       "      <td>0.0</td>\n",
       "    </tr>\n",
       "    <tr>\n",
       "      <th>4 Blondes</th>\n",
       "      <td>0.0</td>\n",
       "      <td>0.0</td>\n",
       "      <td>0.0</td>\n",
       "      <td>0.0</td>\n",
       "      <td>0.0</td>\n",
       "      <td>0.0</td>\n",
       "      <td>0.0</td>\n",
       "      <td>0.0</td>\n",
       "      <td>0.0</td>\n",
       "      <td>0.0</td>\n",
       "      <td>...</td>\n",
       "      <td>0.0</td>\n",
       "      <td>0.0</td>\n",
       "      <td>0.0</td>\n",
       "      <td>0.0</td>\n",
       "      <td>0.0</td>\n",
       "      <td>0.0</td>\n",
       "      <td>0.0</td>\n",
       "      <td>0.0</td>\n",
       "      <td>0.0</td>\n",
       "      <td>0.0</td>\n",
       "    </tr>\n",
       "    <tr>\n",
       "      <th>84 Charing Cross Road</th>\n",
       "      <td>0.0</td>\n",
       "      <td>0.0</td>\n",
       "      <td>0.0</td>\n",
       "      <td>0.0</td>\n",
       "      <td>0.0</td>\n",
       "      <td>0.0</td>\n",
       "      <td>0.0</td>\n",
       "      <td>0.0</td>\n",
       "      <td>0.0</td>\n",
       "      <td>0.0</td>\n",
       "      <td>...</td>\n",
       "      <td>0.0</td>\n",
       "      <td>0.0</td>\n",
       "      <td>0.0</td>\n",
       "      <td>0.0</td>\n",
       "      <td>0.0</td>\n",
       "      <td>10.0</td>\n",
       "      <td>0.0</td>\n",
       "      <td>0.0</td>\n",
       "      <td>0.0</td>\n",
       "      <td>0.0</td>\n",
       "    </tr>\n",
       "  </tbody>\n",
       "</table>\n",
       "<p>5 rows × 888 columns</p>\n",
       "</div>"
      ],
      "text/plain": [
       "user_id                254     2276    2766    2977    3363    3757    4017    \\\n",
       "title                                                                           \n",
       "1984                      9.0     0.0     0.0     0.0     0.0     0.0     0.0   \n",
       "1st to Die: A Novel       0.0     0.0     0.0     0.0     0.0     0.0     0.0   \n",
       "2nd Chance                0.0    10.0     0.0     0.0     0.0     0.0     0.0   \n",
       "4 Blondes                 0.0     0.0     0.0     0.0     0.0     0.0     0.0   \n",
       "84 Charing Cross Road     0.0     0.0     0.0     0.0     0.0     0.0     0.0   \n",
       "\n",
       "user_id                4385    6242    6251    ...  274004  274061  274301  \\\n",
       "title                                          ...                           \n",
       "1984                      0.0     0.0     0.0  ...     0.0     0.0     0.0   \n",
       "1st to Die: A Novel       0.0     0.0     0.0  ...     0.0     0.0     0.0   \n",
       "2nd Chance                0.0     0.0     0.0  ...     0.0     0.0     0.0   \n",
       "4 Blondes                 0.0     0.0     0.0  ...     0.0     0.0     0.0   \n",
       "84 Charing Cross Road     0.0     0.0     0.0  ...     0.0     0.0     0.0   \n",
       "\n",
       "user_id                274308  274808  275970  277427  277478  277639  278418  \n",
       "title                                                                          \n",
       "1984                      0.0     0.0     0.0     0.0     0.0     0.0     0.0  \n",
       "1st to Die: A Novel       0.0     0.0     0.0     0.0     0.0     0.0     0.0  \n",
       "2nd Chance                0.0     0.0     0.0     0.0     0.0     0.0     0.0  \n",
       "4 Blondes                 0.0     0.0     0.0     0.0     0.0     0.0     0.0  \n",
       "84 Charing Cross Road     0.0     0.0    10.0     0.0     0.0     0.0     0.0  \n",
       "\n",
       "[5 rows x 888 columns]"
      ]
     },
     "execution_count": 42,
     "metadata": {},
     "output_type": "execute_result"
    }
   ],
   "source": [
    "book_pivot.head()"
   ]
  },
  {
   "cell_type": "markdown",
   "id": "c4a280c0",
   "metadata": {},
   "source": [
    "so there is a lot of zeros and if we clustring, it will compute the distance between each column like 0-0, 0-0... so it will take too much time to compute distances, to avoid wasting time and energie we need to just consider the non 0 values , for that we can use the csr matrix ( search on what is it ), so what it does : automatically those zeros won't be considered , it will ignore all those zeros ( to win some time )"
   ]
  },
  {
   "cell_type": "code",
   "execution_count": 43,
   "id": "a486feec",
   "metadata": {},
   "outputs": [],
   "source": [
    "from scipy.sparse import csr_matrix"
   ]
  },
  {
   "cell_type": "code",
   "execution_count": 44,
   "id": "0291f428",
   "metadata": {},
   "outputs": [],
   "source": [
    "book_sparse = csr_matrix(book_pivot)"
   ]
  },
  {
   "cell_type": "code",
   "execution_count": 45,
   "id": "5605aef0",
   "metadata": {
    "scrolled": true
   },
   "outputs": [
    {
     "data": {
      "text/plain": [
       "<742x888 sparse matrix of type '<class 'numpy.float64'>'\n",
       "\twith 14942 stored elements in Compressed Sparse Row format>"
      ]
     },
     "execution_count": 45,
     "metadata": {},
     "output_type": "execute_result"
    }
   ],
   "source": [
    "book_sparse"
   ]
  },
  {
   "cell_type": "markdown",
   "id": "64f31212",
   "metadata": {},
   "source": [
    "we will pass this matrix to our model that we will use which is nearest neighbor from sklearn"
   ]
  },
  {
   "cell_type": "code",
   "execution_count": 46,
   "id": "39477710",
   "metadata": {},
   "outputs": [],
   "source": [
    "from sklearn.neighbors import NearestNeighbors"
   ]
  },
  {
   "cell_type": "code",
   "execution_count": 47,
   "id": "e4334a33",
   "metadata": {},
   "outputs": [],
   "source": [
    "model = NearestNeighbors(algorithm='brute') # we will use brute technique for this model"
   ]
  },
  {
   "cell_type": "code",
   "execution_count": 48,
   "id": "9545e163",
   "metadata": {},
   "outputs": [
    {
     "data": {
      "text/plain": [
       "NearestNeighbors(algorithm='brute')"
      ]
     },
     "execution_count": 48,
     "metadata": {},
     "output_type": "execute_result"
    }
   ],
   "source": [
    "model.fit(book_sparse) #training the model"
   ]
  },
  {
   "cell_type": "markdown",
   "id": "b1936529",
   "metadata": {},
   "source": [
    "## model evaluation"
   ]
  },
  {
   "cell_type": "code",
   "execution_count": 49,
   "id": "3cb39bcc",
   "metadata": {},
   "outputs": [
    {
     "data": {
      "text/html": [
       "<div>\n",
       "<style scoped>\n",
       "    .dataframe tbody tr th:only-of-type {\n",
       "        vertical-align: middle;\n",
       "    }\n",
       "\n",
       "    .dataframe tbody tr th {\n",
       "        vertical-align: top;\n",
       "    }\n",
       "\n",
       "    .dataframe thead th {\n",
       "        text-align: right;\n",
       "    }\n",
       "</style>\n",
       "<table border=\"1\" class=\"dataframe\">\n",
       "  <thead>\n",
       "    <tr style=\"text-align: right;\">\n",
       "      <th></th>\n",
       "      <th>user_id</th>\n",
       "      <th>ISBN</th>\n",
       "      <th>rating</th>\n",
       "      <th>title</th>\n",
       "      <th>author</th>\n",
       "      <th>year</th>\n",
       "      <th>publisher</th>\n",
       "      <th>img_url</th>\n",
       "      <th>num_of_rating</th>\n",
       "    </tr>\n",
       "  </thead>\n",
       "  <tbody>\n",
       "    <tr>\n",
       "      <th>0</th>\n",
       "      <td>277427</td>\n",
       "      <td>002542730X</td>\n",
       "      <td>10</td>\n",
       "      <td>Politically Correct Bedtime Stories: Modern Ta...</td>\n",
       "      <td>James Finn Garner</td>\n",
       "      <td>1994</td>\n",
       "      <td>John Wiley &amp;amp; Sons Inc</td>\n",
       "      <td>http://images.amazon.com/images/P/002542730X.0...</td>\n",
       "      <td>82</td>\n",
       "    </tr>\n",
       "    <tr>\n",
       "      <th>1</th>\n",
       "      <td>3363</td>\n",
       "      <td>002542730X</td>\n",
       "      <td>0</td>\n",
       "      <td>Politically Correct Bedtime Stories: Modern Ta...</td>\n",
       "      <td>James Finn Garner</td>\n",
       "      <td>1994</td>\n",
       "      <td>John Wiley &amp;amp; Sons Inc</td>\n",
       "      <td>http://images.amazon.com/images/P/002542730X.0...</td>\n",
       "      <td>82</td>\n",
       "    </tr>\n",
       "    <tr>\n",
       "      <th>2</th>\n",
       "      <td>11676</td>\n",
       "      <td>002542730X</td>\n",
       "      <td>6</td>\n",
       "      <td>Politically Correct Bedtime Stories: Modern Ta...</td>\n",
       "      <td>James Finn Garner</td>\n",
       "      <td>1994</td>\n",
       "      <td>John Wiley &amp;amp; Sons Inc</td>\n",
       "      <td>http://images.amazon.com/images/P/002542730X.0...</td>\n",
       "      <td>82</td>\n",
       "    </tr>\n",
       "    <tr>\n",
       "      <th>3</th>\n",
       "      <td>12538</td>\n",
       "      <td>002542730X</td>\n",
       "      <td>10</td>\n",
       "      <td>Politically Correct Bedtime Stories: Modern Ta...</td>\n",
       "      <td>James Finn Garner</td>\n",
       "      <td>1994</td>\n",
       "      <td>John Wiley &amp;amp; Sons Inc</td>\n",
       "      <td>http://images.amazon.com/images/P/002542730X.0...</td>\n",
       "      <td>82</td>\n",
       "    </tr>\n",
       "    <tr>\n",
       "      <th>4</th>\n",
       "      <td>13552</td>\n",
       "      <td>002542730X</td>\n",
       "      <td>0</td>\n",
       "      <td>Politically Correct Bedtime Stories: Modern Ta...</td>\n",
       "      <td>James Finn Garner</td>\n",
       "      <td>1994</td>\n",
       "      <td>John Wiley &amp;amp; Sons Inc</td>\n",
       "      <td>http://images.amazon.com/images/P/002542730X.0...</td>\n",
       "      <td>82</td>\n",
       "    </tr>\n",
       "    <tr>\n",
       "      <th>...</th>\n",
       "      <td>...</td>\n",
       "      <td>...</td>\n",
       "      <td>...</td>\n",
       "      <td>...</td>\n",
       "      <td>...</td>\n",
       "      <td>...</td>\n",
       "      <td>...</td>\n",
       "      <td>...</td>\n",
       "      <td>...</td>\n",
       "    </tr>\n",
       "    <tr>\n",
       "      <th>236701</th>\n",
       "      <td>255489</td>\n",
       "      <td>0553579983</td>\n",
       "      <td>7</td>\n",
       "      <td>And Then You Die</td>\n",
       "      <td>Iris Johansen</td>\n",
       "      <td>1998</td>\n",
       "      <td>Bantam</td>\n",
       "      <td>http://images.amazon.com/images/P/0553579983.0...</td>\n",
       "      <td>50</td>\n",
       "    </tr>\n",
       "    <tr>\n",
       "      <th>236702</th>\n",
       "      <td>256407</td>\n",
       "      <td>0553579983</td>\n",
       "      <td>0</td>\n",
       "      <td>And Then You Die</td>\n",
       "      <td>Iris Johansen</td>\n",
       "      <td>1998</td>\n",
       "      <td>Bantam</td>\n",
       "      <td>http://images.amazon.com/images/P/0553579983.0...</td>\n",
       "      <td>50</td>\n",
       "    </tr>\n",
       "    <tr>\n",
       "      <th>236703</th>\n",
       "      <td>257204</td>\n",
       "      <td>0553579983</td>\n",
       "      <td>0</td>\n",
       "      <td>And Then You Die</td>\n",
       "      <td>Iris Johansen</td>\n",
       "      <td>1998</td>\n",
       "      <td>Bantam</td>\n",
       "      <td>http://images.amazon.com/images/P/0553579983.0...</td>\n",
       "      <td>50</td>\n",
       "    </tr>\n",
       "    <tr>\n",
       "      <th>236704</th>\n",
       "      <td>261829</td>\n",
       "      <td>0553579983</td>\n",
       "      <td>0</td>\n",
       "      <td>And Then You Die</td>\n",
       "      <td>Iris Johansen</td>\n",
       "      <td>1998</td>\n",
       "      <td>Bantam</td>\n",
       "      <td>http://images.amazon.com/images/P/0553579983.0...</td>\n",
       "      <td>50</td>\n",
       "    </tr>\n",
       "    <tr>\n",
       "      <th>236705</th>\n",
       "      <td>273979</td>\n",
       "      <td>0553579983</td>\n",
       "      <td>0</td>\n",
       "      <td>And Then You Die</td>\n",
       "      <td>Iris Johansen</td>\n",
       "      <td>1998</td>\n",
       "      <td>Bantam</td>\n",
       "      <td>http://images.amazon.com/images/P/0553579983.0...</td>\n",
       "      <td>50</td>\n",
       "    </tr>\n",
       "  </tbody>\n",
       "</table>\n",
       "<p>59850 rows × 9 columns</p>\n",
       "</div>"
      ],
      "text/plain": [
       "        user_id        ISBN  rating  \\\n",
       "0        277427  002542730X      10   \n",
       "1          3363  002542730X       0   \n",
       "2         11676  002542730X       6   \n",
       "3         12538  002542730X      10   \n",
       "4         13552  002542730X       0   \n",
       "...         ...         ...     ...   \n",
       "236701   255489  0553579983       7   \n",
       "236702   256407  0553579983       0   \n",
       "236703   257204  0553579983       0   \n",
       "236704   261829  0553579983       0   \n",
       "236705   273979  0553579983       0   \n",
       "\n",
       "                                                    title             author  \\\n",
       "0       Politically Correct Bedtime Stories: Modern Ta...  James Finn Garner   \n",
       "1       Politically Correct Bedtime Stories: Modern Ta...  James Finn Garner   \n",
       "2       Politically Correct Bedtime Stories: Modern Ta...  James Finn Garner   \n",
       "3       Politically Correct Bedtime Stories: Modern Ta...  James Finn Garner   \n",
       "4       Politically Correct Bedtime Stories: Modern Ta...  James Finn Garner   \n",
       "...                                                   ...                ...   \n",
       "236701                                   And Then You Die      Iris Johansen   \n",
       "236702                                   And Then You Die      Iris Johansen   \n",
       "236703                                   And Then You Die      Iris Johansen   \n",
       "236704                                   And Then You Die      Iris Johansen   \n",
       "236705                                   And Then You Die      Iris Johansen   \n",
       "\n",
       "        year                  publisher  \\\n",
       "0       1994  John Wiley &amp; Sons Inc   \n",
       "1       1994  John Wiley &amp; Sons Inc   \n",
       "2       1994  John Wiley &amp; Sons Inc   \n",
       "3       1994  John Wiley &amp; Sons Inc   \n",
       "4       1994  John Wiley &amp; Sons Inc   \n",
       "...      ...                        ...   \n",
       "236701  1998                     Bantam   \n",
       "236702  1998                     Bantam   \n",
       "236703  1998                     Bantam   \n",
       "236704  1998                     Bantam   \n",
       "236705  1998                     Bantam   \n",
       "\n",
       "                                                  img_url  num_of_rating  \n",
       "0       http://images.amazon.com/images/P/002542730X.0...             82  \n",
       "1       http://images.amazon.com/images/P/002542730X.0...             82  \n",
       "2       http://images.amazon.com/images/P/002542730X.0...             82  \n",
       "3       http://images.amazon.com/images/P/002542730X.0...             82  \n",
       "4       http://images.amazon.com/images/P/002542730X.0...             82  \n",
       "...                                                   ...            ...  \n",
       "236701  http://images.amazon.com/images/P/0553579983.0...             50  \n",
       "236702  http://images.amazon.com/images/P/0553579983.0...             50  \n",
       "236703  http://images.amazon.com/images/P/0553579983.0...             50  \n",
       "236704  http://images.amazon.com/images/P/0553579983.0...             50  \n",
       "236705  http://images.amazon.com/images/P/0553579983.0...             50  \n",
       "\n",
       "[59850 rows x 9 columns]"
      ]
     },
     "execution_count": 49,
     "metadata": {},
     "output_type": "execute_result"
    }
   ],
   "source": [
    "final_rating"
   ]
  },
  {
   "cell_type": "markdown",
   "id": "41cd8999",
   "metadata": {},
   "source": [
    "now after training the model, i want to see its results : for example let's see the 6 books ( 6 nearest neighbors ) that the model suggest using a book of harry poter which has the index 237"
   ]
  },
  {
   "cell_type": "code",
   "execution_count": 50,
   "id": "14d849e9",
   "metadata": {},
   "outputs": [],
   "source": [
    "distance, suggestion = model.kneighbors(book_pivot.iloc[237,:].values.reshape(1,-1), n_neighbors=6)"
   ]
  },
  {
   "cell_type": "code",
   "execution_count": 51,
   "id": "6a2d2d35",
   "metadata": {},
   "outputs": [
    {
     "data": {
      "text/plain": [
       "array([[ 0.        , 68.78953409, 69.5413546 , 72.64296249, 76.83098333,\n",
       "        77.28518616]])"
      ]
     },
     "execution_count": 51,
     "metadata": {},
     "output_type": "execute_result"
    }
   ],
   "source": [
    "distance"
   ]
  },
  {
   "cell_type": "code",
   "execution_count": 52,
   "id": "7220457a",
   "metadata": {},
   "outputs": [
    {
     "data": {
      "text/plain": [
       "array([[237, 240, 238, 241, 184, 536]], dtype=int64)"
      ]
     },
     "execution_count": 52,
     "metadata": {},
     "output_type": "execute_result"
    }
   ],
   "source": [
    "suggestion"
   ]
  },
  {
   "cell_type": "markdown",
   "id": "cfe67638",
   "metadata": {},
   "source": [
    "so that we have those indexes of the books suggested by the model, we can now print there titles like this"
   ]
  },
  {
   "cell_type": "code",
   "execution_count": 53,
   "id": "dbb2b958",
   "metadata": {},
   "outputs": [
    {
     "data": {
      "text/plain": [
       "Index(['1984', '1st to Die: A Novel', '2nd Chance', '4 Blondes',\n",
       "       '84 Charing Cross Road', 'A Bend in the Road', 'A Case of Need',\n",
       "       'A Child Called \\It\\\": One Child's Courage to Survive\"',\n",
       "       'A Civil Action', 'A Cry In The Night',\n",
       "       ...\n",
       "       'Winter Solstice', 'Wish You Well', 'Without Remorse',\n",
       "       'Wizard and Glass (The Dark Tower, Book 4)', 'Wuthering Heights',\n",
       "       'Year of Wonders', 'You Belong To Me',\n",
       "       'Zen and the Art of Motorcycle Maintenance: An Inquiry into Values',\n",
       "       'Zoya', '\\O\\\" Is for Outlaw\"'],\n",
       "      dtype='object', name='title', length=742)"
      ]
     },
     "execution_count": 53,
     "metadata": {},
     "output_type": "execute_result"
    }
   ],
   "source": [
    "book_pivot.index"
   ]
  },
  {
   "cell_type": "code",
   "execution_count": 54,
   "id": "3fc9e5c8",
   "metadata": {},
   "outputs": [
    {
     "name": "stdout",
     "output_type": "stream",
     "text": [
      "Index(['Harry Potter and the Chamber of Secrets (Book 2)',\n",
      "       'Harry Potter and the Prisoner of Azkaban (Book 3)',\n",
      "       'Harry Potter and the Goblet of Fire (Book 4)',\n",
      "       'Harry Potter and the Sorcerer's Stone (Book 1)', 'Exclusive',\n",
      "       'The Cradle Will Fall'],\n",
      "      dtype='object', name='title')\n"
     ]
    }
   ],
   "source": [
    "for i in range(len(suggestion)):\n",
    "    print(book_pivot.index[suggestion[i]])"
   ]
  },
  {
   "cell_type": "code",
   "execution_count": 55,
   "id": "1c419c47",
   "metadata": {},
   "outputs": [],
   "source": [
    "import numpy as np\n",
    "book_id = np.where(book_pivot.index == 'Harry Potter and the Chamber of Secrets (Book 2)')[0][0]"
   ]
  },
  {
   "cell_type": "code",
   "execution_count": 56,
   "id": "8d9327fd",
   "metadata": {},
   "outputs": [
    {
     "data": {
      "text/plain": [
       "237"
      ]
     },
     "execution_count": 56,
     "metadata": {},
     "output_type": "execute_result"
    }
   ],
   "source": [
    "book_id"
   ]
  },
  {
   "cell_type": "markdown",
   "id": "ff9c16c7",
   "metadata": {},
   "source": [
    "we will store all books name into a variable to use it later in our recommendation system"
   ]
  },
  {
   "cell_type": "code",
   "execution_count": 58,
   "id": "6cf9cb74",
   "metadata": {},
   "outputs": [],
   "source": [
    "books_name = book_pivot.index"
   ]
  },
  {
   "cell_type": "markdown",
   "id": "7f781d7a",
   "metadata": {},
   "source": [
    "after creating and training our model we will save this model"
   ]
  },
  {
   "cell_type": "code",
   "execution_count": 59,
   "id": "5805dc3a",
   "metadata": {},
   "outputs": [],
   "source": [
    "import pickle\n",
    "#save the model\n",
    "pickle.dump(model, open('model.pkl', 'wb'))\n",
    "\n",
    "pickle.dump(books_name, open('books_name.pkl', 'wb'))\n",
    "\n",
    "pickle.dump(final_rating, open('final_rating.pkl', 'wb'))\n",
    "\n",
    "pickle.dump(book_pivot, open('book_pivot.pkl', 'wb'))\n"
   ]
  },
  {
   "cell_type": "markdown",
   "id": "4681e9b3",
   "metadata": {},
   "source": [
    "we will see how that recommendation system works"
   ]
  },
  {
   "cell_type": "code",
   "execution_count": 60,
   "id": "019e188c",
   "metadata": {},
   "outputs": [],
   "source": [
    "def recommend_book(book_name):\n",
    "    ### what the system will do\n",
    "    book_id = np.where(book_pivot.index == book_name)[0][0]\n",
    "    distance, suggestion = model.kneighbors(book_pivot.iloc[book_id,:].values.reshape(1,-1), n_neighbors=6)\n",
    "    for i in range(len(suggestion)):\n",
    "        books = book_pivot.index[suggestion[i]]\n",
    "        for book in books:\n",
    "            print(book)"
   ]
  },
  {
   "cell_type": "code",
   "execution_count": 61,
   "id": "fcd8f86a",
   "metadata": {},
   "outputs": [
    {
     "name": "stdout",
     "output_type": "stream",
     "text": [
      "Harry Potter and the Chamber of Secrets (Book 2)\n",
      "Harry Potter and the Prisoner of Azkaban (Book 3)\n",
      "Harry Potter and the Goblet of Fire (Book 4)\n",
      "Harry Potter and the Sorcerer's Stone (Book 1)\n",
      "Exclusive\n",
      "The Cradle Will Fall\n"
     ]
    }
   ],
   "source": [
    "#np.where(book_pivot.index == \"4 Blondes\")[0][0]\n",
    "book_name = 'Harry Potter and the Chamber of Secrets (Book 2)'\n",
    "recommend_book(book_name)"
   ]
  },
  {
   "cell_type": "code",
   "execution_count": 62,
   "id": "cef4de4c",
   "metadata": {},
   "outputs": [],
   "source": [
    "# load model\n",
    "loaded_model = pickle.load(open('book_pivot.pkl', 'rb'))"
   ]
  },
  {
   "cell_type": "code",
   "execution_count": 5,
   "id": "924b2597",
   "metadata": {},
   "outputs": [],
   "source": [
    "import pickle\n",
    "loaded_model = pickle.load(open('webapp/books_name.pkl', 'rb'))"
   ]
  },
  {
   "cell_type": "code",
   "execution_count": null,
   "id": "6e70d94c",
   "metadata": {},
   "outputs": [],
   "source": []
  }
 ],
 "metadata": {
  "kernelspec": {
   "display_name": "Python 3 (ipykernel)",
   "language": "python",
   "name": "python3"
  },
  "language_info": {
   "codemirror_mode": {
    "name": "ipython",
    "version": 3
   },
   "file_extension": ".py",
   "mimetype": "text/x-python",
   "name": "python",
   "nbconvert_exporter": "python",
   "pygments_lexer": "ipython3",
   "version": "3.7.0"
  }
 },
 "nbformat": 4,
 "nbformat_minor": 5
}
